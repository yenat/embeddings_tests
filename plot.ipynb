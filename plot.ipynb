{
 "cells": [
  {
   "cell_type": "code",
   "execution_count": 2,
   "metadata": {},
   "outputs": [
    {
     "data": {
      "text/html": [
       "<div>\n",
       "<style scoped>\n",
       "    .dataframe tbody tr th:only-of-type {\n",
       "        vertical-align: middle;\n",
       "    }\n",
       "\n",
       "    .dataframe tbody tr th {\n",
       "        vertical-align: top;\n",
       "    }\n",
       "\n",
       "    .dataframe thead th {\n",
       "        text-align: right;\n",
       "    }\n",
       "</style>\n",
       "<table border=\"1\" class=\"dataframe\">\n",
       "  <thead>\n",
       "    <tr style=\"text-align: right;\">\n",
       "      <th></th>\n",
       "      <th>Issue_key</th>\n",
       "      <th>Summary</th>\n",
       "    </tr>\n",
       "  </thead>\n",
       "  <tbody>\n",
       "    <tr>\n",
       "      <th>0</th>\n",
       "      <td>WEBRC-17</td>\n",
       "      <td>Review and Design Processing Debit Card paymen...</td>\n",
       "    </tr>\n",
       "    <tr>\n",
       "      <th>1</th>\n",
       "      <td>WEBRC-166</td>\n",
       "      <td>Develop Protractor test scripts</td>\n",
       "    </tr>\n",
       "    <tr>\n",
       "      <th>2</th>\n",
       "      <td>WEBRC-167</td>\n",
       "      <td>Benchmark Identification based on raw queries</td>\n",
       "    </tr>\n",
       "    <tr>\n",
       "      <th>3</th>\n",
       "      <td>WEBRC-168</td>\n",
       "      <td>Performance tool, framework and metrics selection</td>\n",
       "    </tr>\n",
       "    <tr>\n",
       "      <th>4</th>\n",
       "      <td>WEBRC-169</td>\n",
       "      <td>Preparation of final project plan document</td>\n",
       "    </tr>\n",
       "    <tr>\n",
       "      <th>...</th>\n",
       "      <td>...</td>\n",
       "      <td>...</td>\n",
       "    </tr>\n",
       "    <tr>\n",
       "      <th>637</th>\n",
       "      <td>WEBRC-753</td>\n",
       "      <td>Finalize Items on Accounts Tab</td>\n",
       "    </tr>\n",
       "    <tr>\n",
       "      <th>638</th>\n",
       "      <td>WEBRC-778</td>\n",
       "      <td>Add Dashboard Setting</td>\n",
       "    </tr>\n",
       "    <tr>\n",
       "      <th>639</th>\n",
       "      <td>WEBRC-845</td>\n",
       "      <td>Collection - Unit Test on Customer (Activity)</td>\n",
       "    </tr>\n",
       "    <tr>\n",
       "      <th>640</th>\n",
       "      <td>WEBRC-816</td>\n",
       "      <td>Feedback from New Payment Type (check, money o...</td>\n",
       "    </tr>\n",
       "    <tr>\n",
       "      <th>641</th>\n",
       "      <td>WEBRC-276</td>\n",
       "      <td>Get latest branch application source code</td>\n",
       "    </tr>\n",
       "  </tbody>\n",
       "</table>\n",
       "<p>642 rows × 2 columns</p>\n",
       "</div>"
      ],
      "text/plain": [
       "     Issue_key                                            Summary\n",
       "0     WEBRC-17  Review and Design Processing Debit Card paymen...\n",
       "1    WEBRC-166                    Develop Protractor test scripts\n",
       "2    WEBRC-167      Benchmark Identification based on raw queries\n",
       "3    WEBRC-168  Performance tool, framework and metrics selection\n",
       "4    WEBRC-169         Preparation of final project plan document\n",
       "..         ...                                                ...\n",
       "637  WEBRC-753                     Finalize Items on Accounts Tab\n",
       "638  WEBRC-778                             Add Dashboard Setting \n",
       "639  WEBRC-845      Collection - Unit Test on Customer (Activity)\n",
       "640  WEBRC-816  Feedback from New Payment Type (check, money o...\n",
       "641  WEBRC-276          Get latest branch application source code\n",
       "\n",
       "[642 rows x 2 columns]"
      ]
     },
     "execution_count": 2,
     "metadata": {},
     "output_type": "execute_result"
    }
   ],
   "source": [
    "\n",
    "import gensim\n",
    "import pandas as pd\n",
    "import smart_open\n",
    "import random\n",
    "\n",
    "# read data\n",
    "dataframe = pd.read_csv('new_input.csv')\n",
    "dataframe"
   ]
  },
  {
   "cell_type": "code",
   "execution_count": 3,
   "metadata": {},
   "outputs": [],
   "source": [
    "def read_corpus(documents):\n",
    "    for i, plot in enumerate(documents):\n",
    "        yield gensim.models.doc2vec.TaggedDocument(gensim.utils.simple_preprocess(plot, max_len=30), [i])"
   ]
  },
  {
   "cell_type": "code",
   "execution_count": 4,
   "metadata": {},
   "outputs": [],
   "source": [
    "train_corpus = list(read_corpus(dataframe.Summary))"
   ]
  },
  {
   "cell_type": "code",
   "execution_count": 5,
   "metadata": {},
   "outputs": [
    {
     "data": {
      "text/plain": [
       "[TaggedDocument(words=['review', 'and', 'design', 'processing', 'debit', 'card', 'payment', 'using', 'remote', 'connect'], tags=[0]),\n",
       " TaggedDocument(words=['develop', 'protractor', 'test', 'scripts'], tags=[1])]"
      ]
     },
     "execution_count": 5,
     "metadata": {},
     "output_type": "execute_result"
    }
   ],
   "source": [
    "train_corpus[:2]"
   ]
  },
  {
   "cell_type": "code",
   "execution_count": 6,
   "metadata": {},
   "outputs": [
    {
     "name": "stderr",
     "output_type": "stream",
     "text": [
      "/home/bitseat/.local/lib/python3.6/site-packages/gensim/models/doc2vec.py:315: UserWarning: The parameter `iter` is deprecated, will be removed in 4.0.0, use `epochs` instead.\n",
      "  warnings.warn(\"The parameter `iter` is deprecated, will be removed in 4.0.0, use `epochs` instead.\")\n",
      "/home/bitseat/.local/lib/python3.6/site-packages/gensim/models/doc2vec.py:319: UserWarning: The parameter `size` is deprecated, will be removed in 4.0.0, use `vector_size` instead.\n",
      "  warnings.warn(\"The parameter `size` is deprecated, will be removed in 4.0.0, use `vector_size` instead.\")\n",
      "/home/bitseat/.local/lib/python3.6/site-packages/ipykernel_launcher.py:3: DeprecationWarning: Call to deprecated `iter` (Attribute will be removed in 4.0.0, use self.epochs instead).\n",
      "  This is separate from the ipykernel package so we can avoid doing imports until\n"
     ]
    }
   ],
   "source": [
    "model = gensim.models.doc2vec.Doc2Vec(size=50, min_count=2, iter=55)\n",
    "model.build_vocab(train_corpus)\n",
    "model.train(train_corpus, total_examples=model.corpus_count, epochs=model.iter)"
   ]
  },
  {
   "cell_type": "code",
   "execution_count": 7,
   "metadata": {},
   "outputs": [],
   "source": [
    "model.save_word2vec_format('cia_tensor.w2v', doctag_vec=True, word_vec=False)"
   ]
  },
  {
   "cell_type": "code",
   "execution_count": 8,
   "metadata": {},
   "outputs": [
    {
     "name": "stderr",
     "output_type": "stream",
     "text": [
      "2020-09-29 16:21:24,740 - word2vec2tensor - INFO - running /home/bitseat/.local/lib/python3.6/site-packages/gensim/scripts/word2vec2tensor.py -i cia_tensor.w2v -o cia_plot\n",
      "2020-09-29 16:21:24,741 - utils_any2vec - INFO - loading projection weights from cia_tensor.w2v\n",
      "2020-09-29 16:21:24,776 - utils_any2vec - INFO - loaded (642, 50) matrix from cia_tensor.w2v\n",
      "2020-09-29 16:21:24,799 - word2vec2tensor - INFO - 2D tensor file saved to cia_plot_tensor.tsv\n",
      "2020-09-29 16:21:24,800 - word2vec2tensor - INFO - Tensor metadata file saved to cia_plot_metadata.tsv\n",
      "2020-09-29 16:21:24,800 - word2vec2tensor - INFO - finished running word2vec2tensor.py\n"
     ]
    }
   ],
   "source": [
    "%run -m gensim.scripts.word2vec2tensor -i cia_tensor.w2v -o cia_plot"
   ]
  },
  {
   "cell_type": "code",
   "execution_count": 9,
   "metadata": {},
   "outputs": [],
   "source": [
    "with open('cia_plot_metadata.tsv','w') as w:\n",
    "    w.write('Issue_key\\tSummary\\n')\n",
    "    for i,j in zip(dataframe.Issue_key, dataframe.Summary):\n",
    "        w.write(\"%s\\t%s\\n\" % (i,j))"
   ]
  },
  {
   "cell_type": "code",
   "execution_count": null,
   "metadata": {},
   "outputs": [],
   "source": []
  }
 ],
 "metadata": {
  "kernelspec": {
   "display_name": "Python 3.6.9 64-bit",
   "language": "python",
   "name": "python36964bit6297b8649a2c4468aac1eb77b8159126"
  },
  "language_info": {
   "codemirror_mode": {
    "name": "ipython",
    "version": 3
   },
   "file_extension": ".py",
   "mimetype": "text/x-python",
   "name": "python",
   "nbconvert_exporter": "python",
   "pygments_lexer": "ipython3",
   "version": "3.6.9"
  }
 },
 "nbformat": 4,
 "nbformat_minor": 4
}
